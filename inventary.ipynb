{
 "cells": [
  {
   "cell_type": "markdown",
   "metadata": {},
   "source": [
    "## Inventary\n"
   ]
  },
  {
   "cell_type": "markdown",
   "metadata": {},
   "source": [
    "#### admin acount required"
   ]
  },
  {
   "cell_type": "code",
   "execution_count": null,
   "metadata": {},
   "outputs": [],
   "source": [
    "from arcgis.gis import GIS\n",
    "gis = GIS(\"http://www.arcgis.com/\",\"rmartin_esri_colombia\",\"***\")\n",
    "import pandas as pd\n",
    "from datetime import datetime\n",
    "from time import sleep"
   ]
  },
  {
   "cell_type": "code",
   "execution_count": null,
   "metadata": {},
   "outputs": [],
   "source": [
    "gis.admin.credits.credits"
   ]
  },
  {
   "cell_type": "markdown",
   "metadata": {},
   "source": [
    "#### Inventary"
   ]
  },
  {
   "cell_type": "code",
   "execution_count": null,
   "metadata": {},
   "outputs": [],
   "source": [
    "columns = [\"Folder\",\"Owner\", \"Title\", \"Name\", \"Type\", \"Views\", \n",
    "           \"Size (mb)\", \"Creation date\", \"Edit date\", \"Item ID\",\"Acces\",\"Url\"]\n",
    "def getInventaryItems(user):    \n",
    "    datos = []\n",
    "    foldersName = [None]+[folder[\"title\"] for folder in user.folders]\n",
    "    for folder in foldersName:\n",
    "        items = user.items(folder)\n",
    "        if folder is None:\n",
    "            folder = \"Root\"\n",
    "        for item in items:\n",
    "            datos.append([folder, \n",
    "                          item.owner, \n",
    "                          item.title, \n",
    "                          item.name, \n",
    "                          item.type, \n",
    "                          item.numViews, \n",
    "                          item.size/1048576 , \n",
    "                          datetime.utcfromtimestamp(item.created/1000).strftime('%Y-%m-%d %H:%M:%S'),\n",
    "                          datetime.utcfromtimestamp(item.modified/1000).strftime('%Y-%m-%d %H:%M:%S'),\n",
    "                          item.id,\n",
    "                          item.access,\n",
    "                          item.url])\n",
    "    return datos   "
   ]
  },
  {
   "cell_type": "markdown",
   "metadata": {},
   "source": [
    "**Note: Executing the following cell may take a few minutes.**"
   ]
  },
  {
   "cell_type": "code",
   "execution_count": null,
   "metadata": {},
   "outputs": [],
   "source": [
    "df_i = pd.DataFrame()\n",
    "\n",
    "##limit the users\n",
    "for user in gis.users.search():\n",
    "    datos = getInventaryItems(user)\n",
    "    df = pd.DataFrame(datos, columns=columns)\n",
    "    df_i=pd.concat([df_i,df])\n"
   ]
  },
  {
   "cell_type": "code",
   "execution_count": null,
   "metadata": {},
   "outputs": [],
   "source": [
    "df.dtypes"
   ]
  },
  {
   "cell_type": "code",
   "execution_count": null,
   "metadata": {},
   "outputs": [],
   "source": [
    "list(df.select_dtypes(include=['float64','int64']))"
   ]
  },
  {
   "cell_type": "code",
   "execution_count": null,
   "metadata": {},
   "outputs": [],
   "source": [
    "df_i.to_csv('inventary.csv',encoding='utf8',sep=';',index=False)"
   ]
  },
  {
   "cell_type": "code",
   "execution_count": null,
   "metadata": {},
   "outputs": [],
   "source": [
    "print(\"Total almacenamiento de {} Mb == {:.2f} Gb\".format(df['Size (mb)'].sum(),df['Size (mb)'].sum()))"
   ]
  },
  {
   "cell_type": "code",
   "execution_count": null,
   "metadata": {},
   "outputs": [],
   "source": [
    "# para mostrar muchos registros\n",
    "pd.set_option('display.max_rows', 500)"
   ]
  },
  {
   "cell_type": "code",
   "execution_count": null,
   "metadata": {},
   "outputs": [],
   "source": [
    "len(df_i['Propietario'].unique())"
   ]
  },
  {
   "cell_type": "code",
   "execution_count": null,
   "metadata": {},
   "outputs": [],
   "source": [
    "df_1 = pd.read_csv('temp.csv',encoding='utf8',sep=';')"
   ]
  },
  {
   "cell_type": "code",
   "execution_count": null,
   "metadata": {},
   "outputs": [],
   "source": [
    "df_1"
   ]
  },
  {
   "cell_type": "markdown",
   "metadata": {},
   "source": [
    "### Calculate credits : https://doc.arcgis.com/en/arcgis-online/administer/credits.htm NOT already"
   ]
  },
  {
   "cell_type": "code",
   "execution_count": null,
   "metadata": {},
   "outputs": [],
   "source": [
    "df_i.groupby(list(df_i)).sum().sort_values(by='Size (mb)',ascending=False).head(10)"
   ]
  },
  {
   "cell_type": "markdown",
   "metadata": {},
   "source": [
    "# Por tipo"
   ]
  },
  {
   "cell_type": "code",
   "execution_count": null,
   "metadata": {},
   "outputs": [],
   "source": [
    "# weight by type\n",
    "types=df_i.groupby(['Tipo']).sum().reset_index()\n",
    "w = {t:float(types.loc[(types['Tipo'] == t), 'Tamaño (mb)']) for (t) in list(types.Tipo.unique())}\n",
    "types"
   ]
  },
  {
   "cell_type": "markdown",
   "metadata": {},
   "source": [
    "### Per type"
   ]
  },
  {
   "cell_type": "code",
   "execution_count": null,
   "metadata": {
    "scrolled": true
   },
   "outputs": [],
   "source": [
    "#by owner\n",
    "owner=df_i.groupby(['Propietario']).sum().sort_values('Tamaño (mb)',ascending=False)\n",
    "owner"
   ]
  },
  {
   "cell_type": "code",
   "execution_count": null,
   "metadata": {},
   "outputs": [],
   "source": [
    "#by owner and type\n",
    "owner_type=df_i.groupby(['Propietario','Tipo']).sum().sort_values('Tamaño (mb)',ascending=False)\n",
    "owner_type"
   ]
  },
  {
   "cell_type": "code",
   "execution_count": null,
   "metadata": {},
   "outputs": [],
   "source": [
    "#by owner and folder\n",
    "owner_folder=df_i.groupby(['Propietario','Folder']).sum().sort_values('Tamaño (mb)',ascending=False)\n",
    "owner_folder.reset_index()"
   ]
  },
  {
   "cell_type": "code",
   "execution_count": null,
   "metadata": {},
   "outputs": [],
   "source": [
    "owner_item=df_i.groupby(['Propietario','Título','Tipo','Item ID','Fecha creación','Fecha modificación']).sum().sort_values('Número de vistas',ascending=False).reset_index()\n",
    "owner_item"
   ]
  },
  {
   "cell_type": "code",
   "execution_count": null,
   "metadata": {},
   "outputs": [],
   "source": [
    "#by owner\n",
    "df_i.query(\"Propietario == 'mtoro_geek'\").sort_values('Tamaño (mb)',ascending=False)"
   ]
  },
  {
   "cell_type": "code",
   "execution_count": null,
   "metadata": {
    "scrolled": true
   },
   "outputs": [],
   "source": [
    "#  by type\n",
    "df_i[df_i['Tipo']=='Service Definition'].sort_values('Tamaño (mb)',ascending=False)"
   ]
  },
  {
   "cell_type": "markdown",
   "metadata": {},
   "source": [
    "# vistas"
   ]
  },
  {
   "cell_type": "code",
   "execution_count": null,
   "metadata": {},
   "outputs": [],
   "source": [
    "df_i.groupby(['Título']).sum().reset_index()"
   ]
  },
  {
   "cell_type": "markdown",
   "metadata": {},
   "source": [
    "### save"
   ]
  },
  {
   "cell_type": "code",
   "execution_count": null,
   "metadata": {
    "scrolled": true
   },
   "outputs": [],
   "source": [
    "# df_i.to_csv(\"inventary.csv\",encoding='utf-8-sig')\n",
    "df_i.groupby(['Tipo']).sum().sort_values('Tamaño (mb)',ascending=False).reset_index().to_csv(\"inventario_semillero/type.csv\",encoding='utf-8-sig',sep=';',decimal=',')\n",
    "df_i.groupby(['Propietario']).sum().sort_values('Tamaño (mb)',ascending=False).reset_index().to_csv(\"inventario_semillero/owner.csv\",encoding='utf-8-sig',sep=';',decimal=',')\n",
    "df_i.groupby(['Propietario','Tipo']).sum().sort_values('Tamaño (mb)',ascending=False).reset_index().to_csv(\"inventario_semillero/owner_type.csv\",encoding='utf-8-sig',sep=';',decimal=',')\n",
    "df_i.groupby(['Propietario','Folder']).sum().sort_values('Tamaño (mb)',ascending=False).reset_index().to_csv(\"inventario_semillero/owner_folder.csv\",encoding='utf-8-sig',sep=';',decimal=',')\n",
    "df_i.groupby(['Propietario','Título','Item ID','Tipo','Fecha creación','Fecha modificación']).sum().sort_values('Tamaño (mb)',ascending=False).reset_index().to_csv(\"inventario_semillero/owner_item.csv\",encoding='utf-8-sig',sep=';',decimal=',')\n",
    "#download in Files tab; and click on file"
   ]
  },
  {
   "cell_type": "code",
   "execution_count": null,
   "metadata": {},
   "outputs": [],
   "source": [
    "import pandas as pd"
   ]
  },
  {
   "cell_type": "code",
   "execution_count": null,
   "metadata": {},
   "outputs": [],
   "source": [
    "df = pd.read_csv('inventary.csv',sep=';')\n",
    "df.dtypes"
   ]
  },
  {
   "cell_type": "code",
   "execution_count": null,
   "metadata": {},
   "outputs": [],
   "source": [
    "df.to_parquet('inventary.parquet.gzip',\n",
    "              compression='gzip')  "
   ]
  },
  {
   "cell_type": "code",
   "execution_count": null,
   "metadata": {},
   "outputs": [],
   "source": [
    "!pip install pyarrow"
   ]
  },
  {
   "cell_type": "code",
   "execution_count": null,
   "metadata": {},
   "outputs": [],
   "source": []
  }
 ],
 "metadata": {
  "esriNotebookRuntime": {
   "notebookRuntimeName": "ArcGIS Notebook Python 3 Advanced",
   "notebookRuntimeVersion": "3.0"
  },
  "kernelspec": {
   "display_name": "Python 3.6.12 64-bit ('ags': conda)",
   "language": "python",
   "name": "python361264bitagsconda020f5f382e894da1b68a951bcd57c0df"
  },
  "language_info": {
   "codemirror_mode": {
    "name": "ipython",
    "version": 3
   },
   "file_extension": ".py",
   "mimetype": "text/x-python",
   "name": "python",
   "nbconvert_exporter": "python",
   "pygments_lexer": "ipython3",
   "version": "3.6.12-final"
  }
 },
 "nbformat": 4,
 "nbformat_minor": 4
}